{
 "cells": [
  {
   "cell_type": "markdown",
   "metadata": {},
   "source": [
    "# COGS 108 - Project Proposal"
   ]
  },
  {
   "cell_type": "markdown",
   "metadata": {},
   "source": [
    "# Names\n",
    "\n",
    "- Justin Seo\n",
    "- Heidy Amaro\n",
    "- Selina Wu\n",
    "- Akshay Paul\n",
    "- Yassir Tarin"
   ]
  },
  {
   "cell_type": "markdown",
   "metadata": {},
   "source": [
    "# Research Question"
   ]
  },
  {
   "cell_type": "markdown",
   "metadata": {},
   "source": [
    "-  Does the distribution of 5G network coverage in major U.S. cities disproportionately favor higher-income, predominantly white, and more educated neighborhoods?\n",
    "-  This project will explore whether the initial phases of 5G deployment reflect patterns of digital inequity tied to race, income, and education.\n",
    "\n",
    "Some questions we want to answer: Are lower income neighborhoods less likely to have 5G coverage? How does race or ethnicity correlate with 5G rollout within cities? Are there educational disparities in access to connectivity?\n",
    "\n"
   ]
  },
  {
   "cell_type": "markdown",
   "metadata": {},
   "source": [
    "## Background and Prior Work"
   ]
  },
  {
   "cell_type": "markdown",
   "metadata": {},
   "source": [
    "\n",
    "- The emergence of 5G technology marks a significant advancement in terms of mobile connectivity but how it materially benefits society will depend on how access to this technology is distributed. Historically, broadband and high-speed internet connectivity have been kinked geographically and socially; when infrastructure is deployed, it tends to be directed at more affluent, urban areas rather than disregarded and rural areas.<a name=\"cite_ref-1\"></a>[<sup>1</sup>](#cite_note-1) Early reports from non-profits and advocacy groups demonstrate evidence of a similar roll-out standard with 5G, specifically singling out commercial neighborhoods — likely wealthy — while low-income areas missed out on a more modern infrastructure to serve the community. Without access to equitable connectivity, the concerns for digital inequity increase because marginalized groups will not have access to opportunities presented by emerging technologies such as telehealth, smart city services, or advanced mobile applications. This concern is even more troubling given historical data from the Pew Research Center of lower-income, Black, and Hispanic households that disproportionately use mobile internet as their primary connection and may be more reliant on wireless infrastructure.\n",
    "- This project builds on the work of the National Digital Inclusion Alliance, which mapped broadband deserts and found significant correlations between poor connectivity and areas that are predominately representative of minorities.<a name=\"cite_ref-2\"></a>[<sup>2</sup>](#cite_note-2)\n",
    "- This project also considers findings presented by Qualcomm, which outlines how 5G can either help bridge or worsen the digital divide depending on how it's deployed. While the company highlights the potential for 5G to expand access in underserved areas, it acknowledges the need for targeted investment to ensure inclusivity.<a name=\"cite_ref-3\"></a>[<sup>3</sup>](#cite_note-3) Although general broadband inequality has been studied in depth, 5G-specific deployment patterns remain underexplored — a gap this project aims to address by analyzing 5G coverage data alongside census demographics.\n",
    "\n",
    
    "1. <a name=\"cite_note-1\"></a> [^](#cite_ref-1) Brookings Institution. (April 2020) Navigating the US China 5G competition. *Brookings Institution*. https://www.brookings.edu/articles/navigating-the-us-china-5g-competition/ \n",
    "2. <a name=\"cite_note-2\"></a> [^](#cite_ref-2) Pew Research Center. (22 June 2021). *Digital divide persists even as tech adoption grows*. https://www.pewresearch.org/short-reads/2021/06/22/digital-divide-persists-even-as-americans-with-lower-incomes-make-gains-in-tech-adoption/  \n",
    "3. <a name=\"cite_note-3\"></a> [^](#cite_ref-3) Qualcomm. (2021). *5G and the Digital Divide: State of Play and Policy Recommendations*. https://www.qualcomm.com/content/dam/qcomm-martech/dm-assets/documents/5G-and-the-Digital-Divide.pdf \n"
   ]
  },
  {
   "cell_type": "markdown",
   "metadata": {},
   "source": [
    "# Hypothesis\n"
   ]
  },
  {
   "cell_type": "markdown",
   "metadata": {},
   "source": [
    "\n",
    "- We expect that 5G coverage is most widespread in neighborhoods with the greatest levels of median income,  education, and the lowest concentrations of racial minorities. This assumption is based on previous trends of broadband rollouts and the profit-maximizing nature of telecommunications companies. \n",
    
    "- Explain why you think this will be the outcome (what was your thinking?)\n",
    "\n",
    "If you question is \"What is the association between X and Y\" then a hypothesis might be \"We predict a strong correlation between X and Y\" or you might predict no correlation or any other possible relationship. Briefly explain your thinking. (2-3 sentences)"
   ]
  },
  {
   "cell_type": "markdown",
   "metadata": {},
   "source": [
    "# Data"
   ]
  },
  {
   "cell_type": "markdown",
   "metadata": {},
   "source": [
    "Ideal Dataset: \n",
    "5G Coverage Data: Detailed maps from major carriers (AT&T, Verizon, T-Mobile), by ZIP code or census tract. \n",
    "Demographic Data: From the U.S. Census Bureau, including: \n",
    
    "- Median household income \n",
    
    "- Racial/ethnic composition \n",
    
    "- Percent of population with college degrees \n",
    
    "- Geographic Boundaries: For spatial joins and mapping, we’ll use TIGER shapefiles from the Census. \n",
    
    "Feasible Datasets We Can Access: \n",
    "FCC 5G and broadband coverage maps: https://broadbandmap.fcc.gov/ \n",
    
    "T-Mobile and Verizon 5G coverage maps: https://www.t-mobile.com/coverage/coverage-map \n",
    
    "U.S. Census/ACS Data: https://data.census.gov/ \n",
    
    "OpenCelliD (for crowdsourced cell tower locations): https://www.opencellid.org/ \n",
    
    "We’ll use data integration methods to align coverage data with census tracts or ZIP codes. For city focus, we plan to start with Los Angeles, Atlanta, and Houston — diverse metro areas with strong 5G rollouts and distinct demographics."
   ]
  },
  {
   "cell_type": "markdown",
   "metadata": {},
   "source": [
    "# Ethics & Privacy"
   ]
  },
  {
   "cell_type": "markdown",
   "metadata": {},
   "source": [
    "Our project uses aggregated data that is publicly routable, so the only risk to individual privacy is very low. However, we need to be mindful of how we do our analysis so as not to make misleading claims. The rollout of 5G will depend on the technical particulars down to latitude and longitude (e.g., infrastructure, topography), so not covering everyone equally does not mean someone is being discriminatory in the process. \n",

    "To mitigate these issues: \n",
    
    "We’ll control for population density and geographic constraints where possible. \n",
    
    "We’ll focus on structural inequalities, not attributing blame to individuals or groups. \n",
    
    "We will include an explicit “limitations” section and audit our methods for fairness and transparency."

   ]
  },
  {
   "cell_type": "markdown",
   "metadata": {},
   "source": [
    "# Team Expectations "
   ]
  },
  {
   "cell_type": "markdown",
   "metadata": {},
   "source": [
                "\n",
                "The following components will be completed and submitted **as a team**, as outlined in the [COGS 108 Project Documentation](https://github.com/COGS108/Projects):  \n",

                "\n",
                "1. Previous Project Review \n",
                "\n",
                "2. Project Proposal  \n",
                "\n",
                "3. Project Checkpoint #1: Data \n",
                "\n",
                "4. Project Checkpoint #2: EDA \n",
                "\n",
                "5. Final Project Report  \n",
                "\n",
                "6. Final Project Video"
            ]
  },
  {
   "cell_type": "markdown",
   "metadata": {},
   "source": [
    "# Project Timeline Proposal"
   ]
  },
  {
   "cell_type": "markdown",
   "metadata": {},
   "source": [
    "Specify your team's specific project timeline. An example timeline has been provided. Changes the dates, times, names, and details to fit your group's plan.\n",
    "\n",
    "If you think you will need any special resources or training outside what we have covered in COGS 108 to solve your problem, then your proposal should state these clearly. For example, if you have selected a problem that involves implementing multiple neural networks, please state this so we can make sure you know what you’re doing and so we can point you to resources you will need to implement your project. Note that you are not required to use outside methods.\n",
    "\n",
    "\n",
    "\n",
    "| Meeting Date  | Meeting Time| Completed Before Meeting  | Discuss at Meeting |\n",
    "|---|---|---|---|\n",
    "| Completed  |  1 PM | Read & Think about COGS 108 expectations; brainstorm topics/questions  | Determine best form of communication; Discuss and decide on final project topic; discuss hypothesis; begin background research | \n",
    "| Completed  |  1 PM |  Do background research on topic | Discuss ideal dataset(s) and ethics; draft project proposal | \n",
    "| Completed  | 10 AM  | Edit, finalize, and submit proposal; Search for datasets  | Discuss Wrangling and possible analytical approaches; Assign group members to lead each specific part   |\n",
    "| 5/10  | 6 PM  | Import & Wrangle Data (Selina); EDA (Justin) | Review/Edit wrangling/EDA; Discuss Analysis Plan   |\n",
    "| 5/13  | 3 PM  | Finalize wrangling/EDA; Begin Analysis (Justin, Selina; Heidy, Akshay, Yassir) | Discuss/edit Analysis; Complete project check-in |\n",
    "| 5/23  | 12 PM  | Complete analysis; Draft results/conclusion/discussion (All)| Discuss/edit full project |\n",
    "| TBA  | Before 11:59 PM  | NA | Turn in Final Project & Group Project Surveys |"
   ]
  }
 ],
 "metadata": {
  "kernelspec": {
   "display_name": "Python 3 (ipykernel)",
   "language": "python",
   "name": "python3"
  },
  "language_info": {
   "codemirror_mode": {
    "name": "ipython",
    "version": 3
   },
   "file_extension": ".py",
   "mimetype": "text/x-python",
   "name": "python",
   "nbconvert_exporter": "python",
   "pygments_lexer": "ipython3",
   "version": "3.9.7"
  }
 },
 "nbformat": 4,
 "nbformat_minor": 2
}
