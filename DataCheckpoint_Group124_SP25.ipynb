{
 "cells": [
  {
   "cell_type": "markdown",
   "metadata": {},
   "source": [
    "**If you lost points on the last checkpoint you can get them back by responding to TA/IA feedback**  \n",
    "\n",
    "Update/change the relevant sections where you lost those points, make sure you respond on GitHub Issues to your TA/IA to call their attention to the changes you made here.\n",
    "\n",
    "Please update your Timeline... no battle plan survives contact with the enemy, so make sure we understand how your plans have changed. \n",
    "\n",
    "* Everything including the TA/IA feedback and Timeline are updated/completed! \n"
    
   ]
  },
  {
   "cell_type": "markdown",
   "metadata": {},
   "source": [
    "# COGS 108 - Data Checkpoint"
   ]
  },
  {
   "cell_type": "markdown",
   "metadata": {},
   "source": [
    "# Names\n",
    "\n",
   "- Justin Seo\n",
    "- Heidy Amaro\n",
    "- Selina Wu\n",
    "- Akshay Paul\n",
    "- Yassir Tarin"
   ]
  },
  {
   "cell_type": "markdown",
   "metadata": {},
   "source": [
    "# Research Question"
   ]
  },
  {
   "cell_type": "markdown",
   "metadata": {},
   "source": [
    "-  Does the distribution of 5G network coverage in major U.S. cities disproportionately favor higher-income, predominantly white, and more educated neighborhoods?\n",
    "-  This project will explore whether the initial phases of 5G deployment reflect patterns of digital inequity tied to race, income, and education.\n",
    "\n",
    "Some questions we want to answer: Are lower income neighborhoods less likely to have 5G coverage? How does race or ethnicity correlate with 5G rollout within cities? Are there educational disparities in access to connectivity?\n",
    "\n"
   ]
  },
  {
   "cell_type": "markdown",
   "metadata": {},
   "source": [
    "## Background and Prior Work"
   ]
  },
  {
   "cell_type": "markdown",
   "metadata": {},
   "source": [
    "\n",
    "- The emergence of 5G technology marks a significant advancement in terms of mobile connectivity but how it materially benefits society will depend on how access to this technology is distributed. Historically, broadband and high-speed internet connectivity have been kinked geographically and socially; when infrastructure is deployed, it tends to be directed at more affluent, urban areas rather than disregarded and rural areas.<a name=\"cite_ref-1\"></a>[<sup>1</sup>](#cite_note-1) Early reports from non-profits and advocacy groups demonstrate evidence of a similar roll-out standard with 5G, specifically singling out commercial neighborhoods — likely wealthy — while low-income areas missed out on a more modern infrastructure to serve the community. Without access to equitable connectivity, the concerns for digital inequity increase because marginalized groups will not have access to opportunities presented by emerging technologies such as telehealth, smart city services, or advanced mobile applications. This concern is even more troubling given historical data from the Pew Research Center of lower-income, Black, and Hispanic households that disproportionately use mobile internet as their primary connection and may be more reliant on wireless infrastructure.\n",
    "- This project builds on the work of the National Digital Inclusion Alliance, which mapped broadband deserts and found significant correlations between poor connectivity and areas that are predominately representative of minorities.<a name=\"cite_ref-2\"></a>[<sup>2</sup>](#cite_note-2)\n",
    "- This project also considers findings presented by Qualcomm, which outlines how 5G can either help bridge or worsen the digital divide depending on how it's deployed. While the company highlights the potential for 5G to expand access in underserved areas, it acknowledges the need for targeted investment to ensure inclusivity.<a name=\"cite_ref-3\"></a>[<sup>3</sup>](#cite_note-3) Although general broadband inequality has been studied in depth, 5G-specific deployment patterns remain underexplored — a gap this project aims to address by analyzing 5G coverage data alongside census demographics.\n",
    "\n",
    
    "1. <a name=\"cite_note-1\"></a> [^](#cite_ref-1) Brookings Institution. (April 2020) Navigating the US China 5G competition. *Brookings Institution*. https://www.brookings.edu/articles/navigating-the-us-china-5g-competition/ \n",
    "2. <a name=\"cite_note-2\"></a> [^](#cite_ref-2) Pew Research Center. (22 June 2021). *Digital divide persists even as tech adoption grows*. https://www.pewresearch.org/short-reads/2021/06/22/digital-divide-persists-even-as-americans-with-lower-incomes-make-gains-in-tech-adoption/  \n",
    "3. <a name=\"cite_note-3\"></a> [^](#cite_ref-3) Qualcomm. (2021). *5G and the Digital Divide: State of Play and Policy Recommendations*. https://www.qualcomm.com/content/dam/qcomm-martech/dm-assets/documents/5G-and-the-Digital-Divide.pdf \n"
   ]
  },
  {
   "cell_type": "markdown",
   "metadata": {},
   "source": [
    "# Hypothesis\n"
   ]
  },
  {
   "cell_type": "markdown",
   "metadata": {},
   "source": [
    "\n",
    "- We expect that 5G coverage is most widespread in neighborhoods with the greatest levels of median income,  education, and the lowest concentrations of racial minorities. This assumption is based on previous trends of broadband rollouts and the profit-maximizing nature of telecommunications companies. \n",
    
    "- Explain why you think this will be the outcome (what was your thinking?)\n",
    "\n",
    "If you question is \"What is the association between X and Y\" then a hypothesis might be \"We predict a strong correlation between X and Y\" or you might predict no correlation or any other possible relationship. Briefly explain your thinking. (2-3 sentences)"
   ]
  },
  {
   "cell_type": "markdown",
   "metadata": {},
   "source": [
    "# Data"
   ]
  },
  {
   "cell_type": "markdown",
   "metadata": {},
   "source": [
    "### Ideal Dataset:\n",
    "\n",
    "To fully address our research question — whether the rollout of 5G disproportionately favors wealthier, whiter, and more educated neighborhoods — the ideal dataset would include:\n",
    "\n",
    "- **Granular 5G coverage data** by census tract or ZIP code, from each major carrier (Verizon, AT&T, T-Mobile), including both signal strength and speed.\n",
    "- **Demographic data** for those same geographic areas, including:\n",
    "  - Median household income (ACS Table B19013)\n",
    "  - Racial/ethnic composition (ACS Table B03002)\n",
    "  - Educational attainment (ACS Table B15003)\n",
    "- **Geographic boundary files** (e.g., shapefiles) from TIGER/Line to allow spatial joining and mapping of coverage data to demographic data.\n",
    "\n",
    "Ideally, these datasets would be synchronized in time (e.g., from 2023 or later), geographically aligned, and offer consistent resolution to support tract-level or neighborhood-level analysis within cities. This level of detail would allow us to quantify whether marginalized communities have systematically less access to advanced mobile infrastructure.\n",
    "\n",
    "### Real Datasets Used:\n",
    "\n",
    "**Dataset #1: FCC 5G Mobile Broadband Coverage by Census Place**  \n",
    "- **Source**: [FCC National Broadband Map](https://broadbandmap.fcc.gov/)  \n",
    "- **File**: `bdc_06_mobile_broadband_summary_by_geography_place_J24_29apr2025.csv`  \n",
    "- **Content**: Provides modeled 5G coverage percentages (≥7/1 Mbps and ≥35/3 Mbps) for each Census Place in California. This dataset aggregates coverage from multiple providers and is the most detailed publicly available source that can be reliably aligned with ACS data.\n",
    "- **Limitations**: It does not distinguish between individual providers or include signal quality metrics like latency or tower proximity.\n",
    "\n",
    "**Dataset #2: ACS Educational Attainment Data (B15003)**  \n",
    "- **Source**: [U.S. Census Bureau](https://data.census.gov/)  \n",
    "- **File**: `ACSDT5Y2023.B15003-Data.csv`  \n",
    "- **Content**: Counts of educational attainment levels for individuals aged 25+ by Census Place. We use this to compute the percent of residents in each place with a Bachelor’s degree or higher.\n",
    "\n",
    "**Planned Additional Datasets:**\n",
    "- **Median Income (ACS Table B19013)** — for testing the income disparity dimension of our hypothesis\n",
    "- **Race/Ethnicity (ACS Table B03002)** — to examine potential racial bias in deployment patterns\n",
    "- **TIGER/Line Shapefiles** — for enabling geographic joins and spatial visualizations\n",
    "\n",
    "### Other Feasible Data Sources:\n",
    "- [FCC National Broadband Map](https://broadbandmap.fcc.gov/) — includes shapefiles and nationwide broadband data by technology and provider\n",
    "- [T-Mobile & Verizon Coverage Maps](https://www.t-mobile.com/coverage/coverage-map) — useful for visual inspection but limited for quantitative analysis\n",
    "- [OpenCelliD](https://www.opencellid.org/) — open source tower locations but not complete for all U.S. metros\n",
    "\n",
    "### Summary of Ideal vs. Real Data:\n",
    "While our ideal dataset would include provider-level, real-time 5G signal strength at high spatial resolution, the real datasets available through the FCC and Census allow a reasonable and ethically sound approximation. Our approach uses public and statistically valid government sources and avoids questionable methods like screen scraping or relying on proprietary APIs. We align datasets at the **Census Place level**, enabling robust exploratory and statistical analysis of potential digital inequalities in early 5G deployment.\n",
    "\n",
    "### Merged Dataset:\n",
    "We created a merged dataset by joining the FCC 5G coverage summary with ACS educational attainment data using a shared geographic identifier (`geography_id`). Each row in the resulting dataset represents a single Census Place in California and includes:\n",
    "- The percentage of land area covered by 5G at two speed tiers (≥7/1 Mbps and ≥35/3 Mbps)\n",
    "- The percentage of the adult population (age 25+) holding a bachelor’s degree or higher\n",
    "\n",
    "This merged dataset enables us to quantitatively analyze the relationship between 5G availability and educational attainment. As additional variables such as income and race/ethnicity are added, this dataset will support correlation, regression, and spatial analyses to assess digital inequity in 5G infrastructure deployment."
  ]
  },
  {
   "cell_type": "markdown",
   "metadata": {},
   "source": [
    "## Dataset #1 (FCC 5G Mobile Broadband Coverage (by Census Place))"
   ]
  },
  {
   "cell_type": "code",
   "execution_count": null,
   "metadata": {},
   "outputs": [],
   "source": [
    "## YOUR CODE TO LOAD/CLEAN/TIDY/WRANGLE THE DATA GOES HERE\n",
    "import pandas as pd\n",
    "\n",
    "# === Load FCC 5G Mobile Broadband Coverage Data ===\n",
    "fcc = pd.read_csv(\"bdc_06_mobile_broadband_summary_by_geography_place_J24_29apr2025.csv\")\n",
    "fcc = fcc[[\n",
    "    'geography_id',\n",
    "    'geography_desc',\n",
    "    'mobilebb_5g_spd1_area_st_pct',\n",
    "    'mobilebb_5g_spd2_area_st_pct'\n",
    "]]\n",
    "fcc['geography_id'] = fcc['geography_id'].astype(str)\n",
    "fcc.head()\n",
    "\n"
   ]
  },
  {
   "cell_type": "markdown",
   "metadata": {},
   "source": [
    "## Dataset #2 (ACS Educational Attainment Data)"
   ]
  },
  {
   "cell_type": "code",
   "execution_count": null,
   "metadata": {},
   "outputs": [],
   "source": [
    "## YOUR CODE TO LOAD/CLEAN/TIDY/WRANGLE THE DATA GOES HERE\n",
    "acs = pd.read_csv(\"ACSDT5Y2023.B15003-Data.csv\")\n",
    "acs = acs[acs['GEO_ID'] != 'Geography']\n",
    "acs['geography_id'] = acs['GEO_ID'].str.replace('1600000US', '').str.lstrip('0').astype(str)\n",
    "edu_cols = ['B15003_001E', 'B15003_022E', 'B15003_023E', 'B15003_024E', 'B15003_025E']\n",
    "acs[edu_cols] = acs[edu_cols].apply(pd.to_numeric, errors='coerce')\n",
    "acs['pct_bachelors_or_higher'] = (\n",
    "    acs['B15003_022E'] + acs['B15003_023E'] +\n",
    "    acs['B15003_024E'] + acs['B15003_025E']\n",
    ") / acs['B15003_001E'] * 100\n",
    "acs = acs[['geography_id', 'NAME', 'pct_bachelors_or_higher']]\n",
    "\n",
    "## FEEL FREE TO ADD MULTIPLE CELLS PER SECTION "
   ]
  },
{
   "cell_type": "markdown",
   "metadata": {},
   "source": [
    "## Merging Dataset #1 and Dataset #2"
   ]
  },
  {
   "cell_type": "code",
   "execution_count": null,
   "metadata": {},
   "outputs": [],
   "source": [
    "## YOUR CODE TO LOAD/CLEAN/TIDY/WRANGLE THE DATA GOES HERE\n",
    "merged_df = pd.merge(fcc, acs, on='geography_id', how='inner')\n",
    "merged_df.head()\n",
    "\n"
   ]
  },
  {
   "cell_type": "markdown",
   "metadata": {},
   "source": [
    "# Ethics & Privacy"
   ]
  },
  {
   "cell_type": "markdown",
   "metadata": {},
   "source": [
    "Our project uses publicly available, aggregated data from the FCC and U.S. Census Bureau and poses little threat to individual privacy. Ethical considerations, however, go beyond privacy and into the framing, analysis, and communication of our findings. Since our study examines possible disparities in 5G infrastructure deployment by race, income, and education, it is important to take into account how our results can be misinterpreted or misused.\n",
    "\n",
    "One unintended effect is that policymakers or telcos might conclude that differences they see represent consumer demand or logistical limits—rather than as symptoms of structural disparities. Phrased irresponsibly, our research can be abused to further underinvest in marginal communities in the interests of economic austerity or infrastructural \"infeasibility.\"\n",
    "\n",
    "To guard against this use, we will:\n",
    "- Make our data's limitations explicit, including its geographic grain, our models' assumptions, and lack of provider-specific data.\n",
    "- Avoid making causal inferences where only correlation is evident, particularly for sensitive demographic variables.\n",
    "- Put our findings in a structural frame of reference, emphasizing long-term infrastructural exclusion patterns rather than attributing differences to individuals' or groups' choices.\n",
    "- Verify our method for implied bias with consideration given to who may be underrepresented or misclassified in our data streams.\n",
    "- Have a specific \"Limitations and Ethical Considerations\" section in our final report to consider the social implications of our work and inform responsible interpretation.\n",
    "\n",
    "We aim not only to bring patterns of digital inequality to the surface, but to do so responsibly, so that our analysis informs equity-oriented discussion rather than inadvertently perpetuating existing inequalities."
  ]
  },
  {
   "cell_type": "markdown",
   "metadata": {},
   "source": [
    "# Team Expectations "
   ]
  },
  {
   "cell_type": "markdown",
   "metadata": {},
   "source": [
     "\n",
                "The following components will be completed and submitted **as a team**, as outlined in the [COGS 108 Project Documentation](https://github.com/COGS108/Projects):  \n",

                "\n",
                "1. Previous Project Review \n",
                "\n",
                "2. Project Proposal  \n",
                "\n",
                "3. Project Checkpoint #1: Data \n",
                "\n",
                "4. Project Checkpoint #2: EDA \n",
                "\n",
                "5. Final Project Report  \n",
                "\n",
                "6. Final Project Video"
            ]
  },
  {
   "cell_type": "markdown",
   "metadata": {},
   "source": [
    "# Project Timeline Proposal"
   ]
  },
  {
   "cell_type": "markdown",
   "metadata": {},
   "source": [
    "Specify your team's specific project timeline. An example timeline has been provided. Changes the dates, times, names, and details to fit your group's plan.\n",
    "\n",
    "If you think you will need any special resources or training outside what we have covered in COGS 108 to solve your problem, then your proposal should state these clearly. For example, if you have selected a problem that involves implementing multiple neural networks, please state this so we can make sure you know what you’re doing and so we can point you to resources you will need to implement your project. Note that you are not required to use outside methods.\n",
    "\n",
    "\n",
    "\n",
    "| Meeting Date  | Meeting Time| Completed Before Meeting  | Discuss at Meeting |\n",
    "|---|---|---|---|\n",
    "| Completed  |  1 PM | Read & Think about COGS 108 expectations; brainstorm topics/questions  | Determine best form of communication; Discuss and decide on final project topic; discuss hypothesis; begin background research | \n",
    "| Completed  |  1 PM |  Do background research on topic | Discuss ideal dataset(s) and ethics; draft project proposal | \n",
    "| Completed  | 10 AM  | Edit, finalize, and submit proposal; Search for datasets  | Discuss Wrangling and possible analytical approaches; Assign group members to lead each specific part   |\n",
    "| Completed  | 6 PM  | Import & Wrangle Data (Justin); EDA (Justin&Selina) | Review/Edit wrangling/EDA; Discuss Analysis Plan(Justin&Selina; Akshay, Heidy, Yassir)   |\n",
    "| 5/16  | 3 PM  | Finalize wrangling/EDA; Begin Analysis (Justin, Selina; Heidy, Akshay, Yassir) | Discuss/edit Analysis; Complete project check-in |\n",
    "| 5/23  | 12 PM  | Complete analysis; Draft results/conclusion/discussion (All)| Discuss/edit full project |\n",
    "| TBA  | Before 11:59 PM  | NA | Turn in Final Project & Group Project Surveys |"
   ]
  }
 ],
 "metadata": {
  "kernelspec": {
   "display_name": "Python 3 (ipykernel)",
   "language": "python",
   "name": "python3"
  },
  "language_info": {
   "codemirror_mode": {
    "name": "ipython",
    "version": 3
   },
   "file_extension": ".py",
   "mimetype": "text/x-python",
   "name": "python",
   "nbconvert_exporter": "python",
   "pygments_lexer": "ipython3",
   "version": "3.9.7"
  }
 },
 "nbformat": 4,
 "nbformat_minor": 2
}
